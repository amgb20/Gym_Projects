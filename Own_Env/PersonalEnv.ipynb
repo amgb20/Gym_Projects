{
 "cells": [
  {
   "cell_type": "code",
   "execution_count": null,
   "id": "e2b06e9a",
   "metadata": {},
   "outputs": [],
   "source": [
    "# Install depedencies\n",
    "\n",
    "import gym\n",
    "from gym import Env\n",
    "from gym.spaces import Discrete, Box, Tuple, Dict, MultiBinary, MultiDiscrete\n",
    "\n",
    "# import helper\n",
    "import numpy as np\n",
    "import random\n",
    "import os\n",
    "\n",
    "# Import stable baseline\n",
    "from stable_baselines3 import PPO\n",
    "from stable_baselines3.common.vec_env import DummyVecEnv\n",
    "from stable_baselines3.common.evaluation import evaluate_policy"
   ]
  },
  {
   "cell_type": "code",
   "execution_count": null,
   "id": "9a63fd27",
   "metadata": {},
   "outputs": [],
   "source": [
    "## Type of spaces\n",
    "\n",
    "# this discrete line gives us 3 actions\n",
    "Discrete(3) # 0, 1, 2\n",
    "\n",
    "Discrete(3).sample() # 2"
   ]
  },
  {
   "cell_type": "code",
   "execution_count": null,
   "id": "44637248",
   "metadata": {},
   "outputs": [],
   "source": [
    "# this box line gives us \n",
    "Box(0,1, shape=(3,3))"
   ]
  },
  {
   "cell_type": "code",
   "execution_count": null,
   "id": "b2c7a074",
   "metadata": {},
   "outputs": [],
   "source": [
    "Box(0,1, shape=(3,3)).sample"
   ]
  },
  {
   "cell_type": "code",
   "execution_count": null,
   "id": "f9ef3741",
   "metadata": {},
   "outputs": [],
   "source": [
    "# this tuple line gives us\n",
    "Tuple((Discrete(3), Box(0,1, shape=(3,3)))) # Tuple is a combination of discrete and box"
   ]
  },
  {
   "cell_type": "code",
   "execution_count": null,
   "id": "11d1ac04",
   "metadata": {},
   "outputs": [],
   "source": [
    "Tuple((Discrete(3), Box(0,1, shape=(3,3)))).sample # Tuple is a combination of discrete and box\n"
   ]
  },
  {
   "cell_type": "code",
   "execution_count": null,
   "id": "804e5a85",
   "metadata": {},
   "outputs": [],
   "source": [
    "Dict({'height': Discrete(2), 'speed': Box(0,100, shape=(1,)), \"color\": MultiBinary(4)}) # Dict is a combination of discrete and box"
   ]
  },
  {
   "cell_type": "code",
   "execution_count": null,
   "id": "0cc9e257",
   "metadata": {},
   "outputs": [],
   "source": [
    "MultiBinary(4).sample() # 4 binary values"
   ]
  },
  {
   "cell_type": "code",
   "execution_count": null,
   "id": "d5333694",
   "metadata": {},
   "outputs": [],
   "source": [
    "MultiDiscrete([5,2,2,5]).sample()"
   ]
  },
  {
   "cell_type": "markdown",
   "id": "75a9066d",
   "metadata": {},
   "source": [
    "# Building the environment\n",
    "- Build an agent to give us the best shower possible\n",
    "- Random temperature\n",
    "- 37 and 39 degrees"
   ]
  },
  {
   "cell_type": "code",
   "execution_count": null,
   "id": "95f357b9",
   "metadata": {},
   "outputs": [],
   "source": [
    "class showerEnv(Env):\n",
    "    def __init__(self):\n",
    "        self.action_space = Discrete(3) # 0, 1, 2, do we leave the tap on, off, or remains the same\n",
    "        self.observation_space = Box(low=0, high=100, shape=(1,)) # 0-100 % humidity\n",
    "        self.state = 38 + random.randint(-3,3)\n",
    "        self.shower_length = 60 # 60 seconds\n",
    "\n",
    "    def step(self, action):\n",
    "\n",
    "        # Apply temp change\n",
    "        self.state += action -1 # -1, 0, 1\n",
    "\n",
    "        # Reduce shower length by 1 second\n",
    "        self.shower_length -= 1\n",
    "\n",
    "        # Calculate reward\n",
    "        if self.state >=37 and self.state <=39: # healthy range\n",
    "            reward =1\n",
    "        else:\n",
    "            reward = -1\n",
    "\n",
    "        if self.shower_length <=0:\n",
    "            done = True\n",
    "        else:\n",
    "            done = False\n",
    "\n",
    "        info = {}\n",
    "\n",
    "        return self.state, reward, done, info\n",
    "\n",
    "    def reset(self):\n",
    "        self.state = np.array([38 + random.randint(-3,3)]).astype(float) # 38 is the average body temp + random number between -3 and 3\n",
    "        self.shower_length = 60 # resetting the shower length to 60 seconds\n",
    "    def render(self):\n",
    "        pass"
   ]
  },
  {
   "cell_type": "code",
   "execution_count": null,
   "id": "e9a77abe",
   "metadata": {},
   "outputs": [],
   "source": [
    "env = showerEnv()\n",
    "env.observation_space.sample()"
   ]
  },
  {
   "cell_type": "code",
   "execution_count": null,
   "id": "5c64d2f3",
   "metadata": {},
   "outputs": [],
   "source": [
    "env.action_space.sample()"
   ]
  },
  {
   "cell_type": "code",
   "execution_count": null,
   "id": "9871db2f",
   "metadata": {},
   "outputs": [],
   "source": [
    "env.reset()"
   ]
  },
  {
   "cell_type": "markdown",
   "id": "7b481784",
   "metadata": {},
   "source": [
    "# Test Environment"
   ]
  },
  {
   "cell_type": "code",
   "execution_count": null,
   "id": "1034a616",
   "metadata": {},
   "outputs": [],
   "source": [
    "episodes = 5\n",
    "for episode in range (1, episodes+1):\n",
    "    obs = env.reset()\n",
    "    done = False\n",
    "    score = 0\n",
    "\n",
    "    while not done:\n",
    "        env.render()\n",
    "        action = env.action_space.sample()\n",
    "        obs, reward, done, info = env.step(action)\n",
    "        score += reward\n",
    "    print('Episode:{} Score:{}'.format(episode, score))"
   ]
  },
  {
   "cell_type": "markdown",
   "id": "c1b4dba4",
   "metadata": {},
   "source": [
    "# Train the model"
   ]
  },
  {
   "cell_type": "code",
   "execution_count": null,
   "id": "9cd051f2",
   "metadata": {},
   "outputs": [],
   "source": [
    "log_path = os.path.join('Training', 'Logs') \n",
    "model = PPO('MlpPolicy', env, verbose=1, tensorboard_log=log_path)"
   ]
  },
  {
   "cell_type": "code",
   "execution_count": null,
   "id": "f6343e41",
   "metadata": {},
   "outputs": [],
   "source": [
    "model.learn(total_timesteps=40000)"
   ]
  },
  {
   "cell_type": "markdown",
   "id": "1b42100f",
   "metadata": {},
   "source": [
    "# Save Model"
   ]
  },
  {
   "cell_type": "code",
   "execution_count": null,
   "id": "e26e63a9",
   "metadata": {},
   "outputs": [],
   "source": [
    "shower_path = os.path.join('Training', 'Saved Models', 'Shower_Model_PPO')\n",
    "model.save(shower_path)"
   ]
  },
  {
   "cell_type": "code",
   "execution_count": null,
   "id": "f56ca829",
   "metadata": {},
   "outputs": [],
   "source": [
    "del model"
   ]
  },
  {
   "cell_type": "code",
   "execution_count": null,
   "id": "6a7499dd",
   "metadata": {},
   "outputs": [],
   "source": [
    "model = PPO.load(shower_path, env=env)"
   ]
  },
  {
   "cell_type": "code",
   "execution_count": null,
   "id": "d35efa67",
   "metadata": {},
   "outputs": [],
   "source": [
    "evaluate_policy(model, env, n_eval_episodes=10, render=True)"
   ]
  }
 ],
 "metadata": {
  "kernelspec": {
   "display_name": "Python 3 (ipykernel)",
   "language": "python",
   "name": "python3"
  },
  "language_info": {
   "codemirror_mode": {
    "name": "ipython",
    "version": 3
   },
   "file_extension": ".py",
   "mimetype": "text/x-python",
   "name": "python",
   "nbconvert_exporter": "python",
   "pygments_lexer": "ipython3",
   "version": "3.10.12"
  }
 },
 "nbformat": 4,
 "nbformat_minor": 5
}
